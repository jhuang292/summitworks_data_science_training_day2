{
 "cells": [
  {
   "cell_type": "code",
   "execution_count": 1,
   "metadata": {},
   "outputs": [],
   "source": [
    "import numpy as np\n",
    "import pandas as pd"
   ]
  },
  {
   "cell_type": "code",
   "execution_count": 2,
   "metadata": {},
   "outputs": [],
   "source": [
    "df = pd.read_csv(\"prisoners.csv\")"
   ]
  },
  {
   "cell_type": "markdown",
   "metadata": {},
   "source": [
    "## Project 1"
   ]
  },
  {
   "cell_type": "code",
   "execution_count": 3,
   "metadata": {},
   "outputs": [
    {
     "data": {
      "text/html": [
       "<div>\n",
       "<style scoped>\n",
       "    .dataframe tbody tr th:only-of-type {\n",
       "        vertical-align: middle;\n",
       "    }\n",
       "\n",
       "    .dataframe tbody tr th {\n",
       "        vertical-align: top;\n",
       "    }\n",
       "\n",
       "    .dataframe thead th {\n",
       "        text-align: right;\n",
       "    }\n",
       "</style>\n",
       "<table border=\"1\" class=\"dataframe\">\n",
       "  <thead>\n",
       "    <tr style=\"text-align: right;\">\n",
       "      <th></th>\n",
       "      <th>STATE/UT</th>\n",
       "      <th>YEAR</th>\n",
       "      <th>No. of Inmates benefitted by Elementary Education</th>\n",
       "      <th>No. of Inmates benefitted by Adult Education</th>\n",
       "      <th>No. of Inmates benefitted by Higher Education</th>\n",
       "      <th>No. of Inmates benefitted by Computer Course</th>\n",
       "    </tr>\n",
       "  </thead>\n",
       "  <tbody>\n",
       "    <tr>\n",
       "      <th>0</th>\n",
       "      <td>Andhra Pradesh</td>\n",
       "      <td>2013</td>\n",
       "      <td>9480</td>\n",
       "      <td>13758</td>\n",
       "      <td>672</td>\n",
       "      <td>170</td>\n",
       "    </tr>\n",
       "    <tr>\n",
       "      <th>1</th>\n",
       "      <td>Arunachal Pradesh</td>\n",
       "      <td>2013</td>\n",
       "      <td>0</td>\n",
       "      <td>0</td>\n",
       "      <td>0</td>\n",
       "      <td>0</td>\n",
       "    </tr>\n",
       "    <tr>\n",
       "      <th>2</th>\n",
       "      <td>Assam</td>\n",
       "      <td>2013</td>\n",
       "      <td>676</td>\n",
       "      <td>750</td>\n",
       "      <td>14</td>\n",
       "      <td>30</td>\n",
       "    </tr>\n",
       "    <tr>\n",
       "      <th>3</th>\n",
       "      <td>Bihar</td>\n",
       "      <td>2013</td>\n",
       "      <td>1693</td>\n",
       "      <td>3013</td>\n",
       "      <td>125</td>\n",
       "      <td>1417</td>\n",
       "    </tr>\n",
       "    <tr>\n",
       "      <th>4</th>\n",
       "      <td>Chhatisgarh</td>\n",
       "      <td>2013</td>\n",
       "      <td>1664</td>\n",
       "      <td>1803</td>\n",
       "      <td>192</td>\n",
       "      <td>103</td>\n",
       "    </tr>\n",
       "  </tbody>\n",
       "</table>\n",
       "</div>"
      ],
      "text/plain": [
       "            STATE/UT  YEAR  No. of Inmates benefitted by Elementary Education  \\\n",
       "0     Andhra Pradesh  2013                                               9480   \n",
       "1  Arunachal Pradesh  2013                                                  0   \n",
       "2              Assam  2013                                                676   \n",
       "3              Bihar  2013                                               1693   \n",
       "4        Chhatisgarh  2013                                               1664   \n",
       "\n",
       "   No. of Inmates benefitted by Adult Education  \\\n",
       "0                                         13758   \n",
       "1                                             0   \n",
       "2                                           750   \n",
       "3                                          3013   \n",
       "4                                          1803   \n",
       "\n",
       "   No. of Inmates benefitted by Higher Education  \\\n",
       "0                                            672   \n",
       "1                                              0   \n",
       "2                                             14   \n",
       "3                                            125   \n",
       "4                                            192   \n",
       "\n",
       "   No. of Inmates benefitted by Computer Course  \n",
       "0                                           170  \n",
       "1                                             0  \n",
       "2                                            30  \n",
       "3                                          1417  \n",
       "4                                           103  "
      ]
     },
     "execution_count": 3,
     "metadata": {},
     "output_type": "execute_result"
    }
   ],
   "source": [
    "# 1. Data Loading\n",
    "# a.\n",
    "df.head(5)"
   ]
  },
  {
   "cell_type": "code",
   "execution_count": 4,
   "metadata": {},
   "outputs": [
    {
     "data": {
      "text/html": [
       "<div>\n",
       "<style scoped>\n",
       "    .dataframe tbody tr th:only-of-type {\n",
       "        vertical-align: middle;\n",
       "    }\n",
       "\n",
       "    .dataframe tbody tr th {\n",
       "        vertical-align: top;\n",
       "    }\n",
       "\n",
       "    .dataframe thead th {\n",
       "        text-align: right;\n",
       "    }\n",
       "</style>\n",
       "<table border=\"1\" class=\"dataframe\">\n",
       "  <thead>\n",
       "    <tr style=\"text-align: right;\">\n",
       "      <th></th>\n",
       "      <th>STATE/UT</th>\n",
       "      <th>YEAR</th>\n",
       "      <th>No. of Inmates benefitted by Elementary Education</th>\n",
       "      <th>No. of Inmates benefitted by Adult Education</th>\n",
       "      <th>No. of Inmates benefitted by Higher Education</th>\n",
       "      <th>No. of Inmates benefitted by Computer Course</th>\n",
       "    </tr>\n",
       "  </thead>\n",
       "  <tbody>\n",
       "    <tr>\n",
       "      <th>30</th>\n",
       "      <td>D &amp; N Haveli</td>\n",
       "      <td>2013</td>\n",
       "      <td>0</td>\n",
       "      <td>0</td>\n",
       "      <td>0</td>\n",
       "      <td>0</td>\n",
       "    </tr>\n",
       "    <tr>\n",
       "      <th>31</th>\n",
       "      <td>Daman &amp; Diu</td>\n",
       "      <td>2013</td>\n",
       "      <td>0</td>\n",
       "      <td>0</td>\n",
       "      <td>0</td>\n",
       "      <td>0</td>\n",
       "    </tr>\n",
       "    <tr>\n",
       "      <th>32</th>\n",
       "      <td>Delhi</td>\n",
       "      <td>2013</td>\n",
       "      <td>1458</td>\n",
       "      <td>1187</td>\n",
       "      <td>908</td>\n",
       "      <td>174</td>\n",
       "    </tr>\n",
       "    <tr>\n",
       "      <th>33</th>\n",
       "      <td>Lakshadweep</td>\n",
       "      <td>2013</td>\n",
       "      <td>0</td>\n",
       "      <td>0</td>\n",
       "      <td>0</td>\n",
       "      <td>0</td>\n",
       "    </tr>\n",
       "    <tr>\n",
       "      <th>34</th>\n",
       "      <td>Pondicherry</td>\n",
       "      <td>2013</td>\n",
       "      <td>0</td>\n",
       "      <td>0</td>\n",
       "      <td>0</td>\n",
       "      <td>0</td>\n",
       "    </tr>\n",
       "  </tbody>\n",
       "</table>\n",
       "</div>"
      ],
      "text/plain": [
       "        STATE/UT  YEAR  No. of Inmates benefitted by Elementary Education  \\\n",
       "30  D & N Haveli  2013                                                  0   \n",
       "31   Daman & Diu  2013                                                  0   \n",
       "32         Delhi  2013                                               1458   \n",
       "33   Lakshadweep  2013                                                  0   \n",
       "34   Pondicherry  2013                                                  0   \n",
       "\n",
       "    No. of Inmates benefitted by Adult Education  \\\n",
       "30                                             0   \n",
       "31                                             0   \n",
       "32                                          1187   \n",
       "33                                             0   \n",
       "34                                             0   \n",
       "\n",
       "    No. of Inmates benefitted by Higher Education  \\\n",
       "30                                              0   \n",
       "31                                              0   \n",
       "32                                            908   \n",
       "33                                              0   \n",
       "34                                              0   \n",
       "\n",
       "    No. of Inmates benefitted by Computer Course  \n",
       "30                                             0  \n",
       "31                                             0  \n",
       "32                                           174  \n",
       "33                                             0  \n",
       "34                                             0  "
      ]
     },
     "execution_count": 4,
     "metadata": {},
     "output_type": "execute_result"
    }
   ],
   "source": [
    "df.tail(5)"
   ]
  },
  {
   "cell_type": "code",
   "execution_count": 5,
   "metadata": {},
   "outputs": [
    {
     "data": {
      "text/plain": [
       "6"
      ]
     },
     "execution_count": 5,
     "metadata": {},
     "output_type": "execute_result"
    }
   ],
   "source": [
    "# b.\n",
    "len(df.keys())"
   ]
  },
  {
   "cell_type": "code",
   "execution_count": 6,
   "metadata": {
    "scrolled": true
   },
   "outputs": [
    {
     "data": {
      "text/plain": [
       "0     24080\n",
       "1         0\n",
       "2      1470\n",
       "3      6248\n",
       "4      3762\n",
       "5       101\n",
       "6      7284\n",
       "7      3260\n",
       "8       139\n",
       "9       293\n",
       "10     6315\n",
       "11     1383\n",
       "12      526\n",
       "13    12004\n",
       "14     5301\n",
       "15        0\n",
       "16       31\n",
       "17       43\n",
       "18        0\n",
       "19     1896\n",
       "20     1211\n",
       "21     1389\n",
       "22        0\n",
       "23     2967\n",
       "24       34\n",
       "25    17534\n",
       "26      348\n",
       "27     4495\n",
       "28      223\n",
       "29      350\n",
       "30        0\n",
       "31        0\n",
       "32     3727\n",
       "33        0\n",
       "34        0\n",
       "Name: total_benefitted, dtype: int64"
      ]
     },
     "execution_count": 6,
     "metadata": {},
     "output_type": "execute_result"
    }
   ],
   "source": [
    "df['total_benefitted'] = df.iloc[:,[2,3,4,5]].sum(axis = 1)\n",
    "df['total_benefitted']"
   ]
  },
  {
   "cell_type": "code",
   "execution_count": 7,
   "metadata": {
    "scrolled": true
   },
   "outputs": [
    {
     "data": {
      "text/plain": [
       "[1, 15, 18, 22, 30, 31, 33, 34]"
      ]
     },
     "execution_count": 7,
     "metadata": {},
     "output_type": "execute_result"
    }
   ],
   "source": [
    "df.query('total_benefitted == 0').index.tolist()"
   ]
  },
  {
   "cell_type": "code",
   "execution_count": 8,
   "metadata": {
    "scrolled": true
   },
   "outputs": [
    {
     "data": {
      "text/plain": [
       "0     24080\n",
       "1         0\n",
       "2      1470\n",
       "3      6248\n",
       "4      3762\n",
       "5       101\n",
       "6      7284\n",
       "7      3260\n",
       "8       139\n",
       "9       293\n",
       "10     6315\n",
       "11     1383\n",
       "12      526\n",
       "13    12004\n",
       "14     5301\n",
       "15        0\n",
       "16       31\n",
       "17       43\n",
       "18        0\n",
       "19     1896\n",
       "20     1211\n",
       "21     1389\n",
       "22        0\n",
       "23     2967\n",
       "24       34\n",
       "25    17534\n",
       "26      348\n",
       "27     4495\n",
       "28      223\n",
       "29      350\n",
       "30        0\n",
       "31        0\n",
       "32     3727\n",
       "33        0\n",
       "34        0\n",
       "Name: total_benefitted, dtype: int64"
      ]
     },
     "execution_count": 8,
     "metadata": {},
     "output_type": "execute_result"
    }
   ],
   "source": [
    "# 2 Data Manipulate\n",
    "# a\n",
    "df['total_benefitted']"
   ]
  },
  {
   "cell_type": "code",
   "execution_count": 9,
   "metadata": {},
   "outputs": [
    {
     "data": {
      "text/plain": [
       "[37027, 53720, 8311, 7356]"
      ]
     },
     "execution_count": 9,
     "metadata": {},
     "output_type": "execute_result"
    }
   ],
   "source": [
    "# b\n",
    "totalList = df.iloc[:,[2,3,4,5]].sum().tolist()\n",
    "totalList"
   ]
  },
  {
   "cell_type": "code",
   "execution_count": 10,
   "metadata": {},
   "outputs": [],
   "source": [
    "totalList.insert(0, np.nan)\n",
    "totalList.insert(0, np.nan)\n",
    "totalList.insert(6, np.nan)"
   ]
  },
  {
   "cell_type": "code",
   "execution_count": 11,
   "metadata": {},
   "outputs": [
    {
     "data": {
      "text/plain": [
       "[nan, nan, 37027, 53720, 8311, 7356, nan]"
      ]
     },
     "execution_count": 11,
     "metadata": {},
     "output_type": "execute_result"
    }
   ],
   "source": [
    "totalList"
   ]
  },
  {
   "cell_type": "code",
   "execution_count": 12,
   "metadata": {
    "scrolled": true
   },
   "outputs": [
    {
     "name": "stderr",
     "output_type": "stream",
     "text": [
      "/home/junxiong/.local/lib/python3.6/site-packages/pandas/core/frame.py:6692: FutureWarning: Sorting because non-concatenation axis is not aligned. A future version\n",
      "of pandas will change to not sort by default.\n",
      "\n",
      "To accept the future behavior, pass 'sort=False'.\n",
      "\n",
      "To retain the current behavior and silence the warning, pass 'sort=True'.\n",
      "\n",
      "  sort=sort)\n"
     ]
    },
    {
     "data": {
      "text/html": [
       "<div>\n",
       "<style scoped>\n",
       "    .dataframe tbody tr th:only-of-type {\n",
       "        vertical-align: middle;\n",
       "    }\n",
       "\n",
       "    .dataframe tbody tr th {\n",
       "        vertical-align: top;\n",
       "    }\n",
       "\n",
       "    .dataframe thead th {\n",
       "        text-align: right;\n",
       "    }\n",
       "</style>\n",
       "<table border=\"1\" class=\"dataframe\">\n",
       "  <thead>\n",
       "    <tr style=\"text-align: right;\">\n",
       "      <th></th>\n",
       "      <th>No. of Inmates benefitted by Adult Education</th>\n",
       "      <th>No. of Inmates benefitted by Computer Course</th>\n",
       "      <th>No. of Inmates benefitted by Elementary Education</th>\n",
       "      <th>No. of Inmates benefitted by Higher Education</th>\n",
       "      <th>STATE/UT</th>\n",
       "      <th>YEAR</th>\n",
       "      <th>total_benefitted</th>\n",
       "    </tr>\n",
       "  </thead>\n",
       "  <tbody>\n",
       "    <tr>\n",
       "      <th>0</th>\n",
       "      <td>13758</td>\n",
       "      <td>170</td>\n",
       "      <td>9480</td>\n",
       "      <td>672</td>\n",
       "      <td>Andhra Pradesh</td>\n",
       "      <td>2013.0</td>\n",
       "      <td>24080.0</td>\n",
       "    </tr>\n",
       "    <tr>\n",
       "      <th>1</th>\n",
       "      <td>0</td>\n",
       "      <td>0</td>\n",
       "      <td>0</td>\n",
       "      <td>0</td>\n",
       "      <td>Arunachal Pradesh</td>\n",
       "      <td>2013.0</td>\n",
       "      <td>0.0</td>\n",
       "    </tr>\n",
       "    <tr>\n",
       "      <th>2</th>\n",
       "      <td>750</td>\n",
       "      <td>30</td>\n",
       "      <td>676</td>\n",
       "      <td>14</td>\n",
       "      <td>Assam</td>\n",
       "      <td>2013.0</td>\n",
       "      <td>1470.0</td>\n",
       "    </tr>\n",
       "    <tr>\n",
       "      <th>3</th>\n",
       "      <td>3013</td>\n",
       "      <td>1417</td>\n",
       "      <td>1693</td>\n",
       "      <td>125</td>\n",
       "      <td>Bihar</td>\n",
       "      <td>2013.0</td>\n",
       "      <td>6248.0</td>\n",
       "    </tr>\n",
       "    <tr>\n",
       "      <th>4</th>\n",
       "      <td>1803</td>\n",
       "      <td>103</td>\n",
       "      <td>1664</td>\n",
       "      <td>192</td>\n",
       "      <td>Chhatisgarh</td>\n",
       "      <td>2013.0</td>\n",
       "      <td>3762.0</td>\n",
       "    </tr>\n",
       "    <tr>\n",
       "      <th>5</th>\n",
       "      <td>0</td>\n",
       "      <td>88</td>\n",
       "      <td>7</td>\n",
       "      <td>6</td>\n",
       "      <td>Goa</td>\n",
       "      <td>2013.0</td>\n",
       "      <td>101.0</td>\n",
       "    </tr>\n",
       "    <tr>\n",
       "      <th>6</th>\n",
       "      <td>3133</td>\n",
       "      <td>966</td>\n",
       "      <td>2310</td>\n",
       "      <td>875</td>\n",
       "      <td>Gujarat</td>\n",
       "      <td>2013.0</td>\n",
       "      <td>7284.0</td>\n",
       "    </tr>\n",
       "    <tr>\n",
       "      <th>7</th>\n",
       "      <td>774</td>\n",
       "      <td>243</td>\n",
       "      <td>1131</td>\n",
       "      <td>1112</td>\n",
       "      <td>Haryana</td>\n",
       "      <td>2013.0</td>\n",
       "      <td>3260.0</td>\n",
       "    </tr>\n",
       "    <tr>\n",
       "      <th>8</th>\n",
       "      <td>80</td>\n",
       "      <td>0</td>\n",
       "      <td>33</td>\n",
       "      <td>26</td>\n",
       "      <td>Himachal Pradesh</td>\n",
       "      <td>2013.0</td>\n",
       "      <td>139.0</td>\n",
       "    </tr>\n",
       "    <tr>\n",
       "      <th>9</th>\n",
       "      <td>124</td>\n",
       "      <td>34</td>\n",
       "      <td>102</td>\n",
       "      <td>33</td>\n",
       "      <td>Jammu &amp; Kashmir</td>\n",
       "      <td>2013.0</td>\n",
       "      <td>293.0</td>\n",
       "    </tr>\n",
       "    <tr>\n",
       "      <th>10</th>\n",
       "      <td>2595</td>\n",
       "      <td>574</td>\n",
       "      <td>3008</td>\n",
       "      <td>138</td>\n",
       "      <td>Jharkhand</td>\n",
       "      <td>2013.0</td>\n",
       "      <td>6315.0</td>\n",
       "    </tr>\n",
       "    <tr>\n",
       "      <th>11</th>\n",
       "      <td>568</td>\n",
       "      <td>12</td>\n",
       "      <td>633</td>\n",
       "      <td>170</td>\n",
       "      <td>Karnataka</td>\n",
       "      <td>2013.0</td>\n",
       "      <td>1383.0</td>\n",
       "    </tr>\n",
       "    <tr>\n",
       "      <th>12</th>\n",
       "      <td>96</td>\n",
       "      <td>250</td>\n",
       "      <td>156</td>\n",
       "      <td>24</td>\n",
       "      <td>Kerala</td>\n",
       "      <td>2013.0</td>\n",
       "      <td>526.0</td>\n",
       "    </tr>\n",
       "    <tr>\n",
       "      <th>13</th>\n",
       "      <td>9574</td>\n",
       "      <td>151</td>\n",
       "      <td>1978</td>\n",
       "      <td>301</td>\n",
       "      <td>Madhya Pradesh</td>\n",
       "      <td>2013.0</td>\n",
       "      <td>12004.0</td>\n",
       "    </tr>\n",
       "    <tr>\n",
       "      <th>14</th>\n",
       "      <td>2743</td>\n",
       "      <td>1330</td>\n",
       "      <td>346</td>\n",
       "      <td>882</td>\n",
       "      <td>Maharashtra</td>\n",
       "      <td>2013.0</td>\n",
       "      <td>5301.0</td>\n",
       "    </tr>\n",
       "    <tr>\n",
       "      <th>15</th>\n",
       "      <td>0</td>\n",
       "      <td>0</td>\n",
       "      <td>0</td>\n",
       "      <td>0</td>\n",
       "      <td>Manipur</td>\n",
       "      <td>2013.0</td>\n",
       "      <td>0.0</td>\n",
       "    </tr>\n",
       "    <tr>\n",
       "      <th>16</th>\n",
       "      <td>30</td>\n",
       "      <td>0</td>\n",
       "      <td>1</td>\n",
       "      <td>0</td>\n",
       "      <td>Meghalaya</td>\n",
       "      <td>2013.0</td>\n",
       "      <td>31.0</td>\n",
       "    </tr>\n",
       "    <tr>\n",
       "      <th>17</th>\n",
       "      <td>25</td>\n",
       "      <td>0</td>\n",
       "      <td>0</td>\n",
       "      <td>18</td>\n",
       "      <td>Mizoram</td>\n",
       "      <td>2013.0</td>\n",
       "      <td>43.0</td>\n",
       "    </tr>\n",
       "    <tr>\n",
       "      <th>18</th>\n",
       "      <td>0</td>\n",
       "      <td>0</td>\n",
       "      <td>0</td>\n",
       "      <td>0</td>\n",
       "      <td>Nagaland</td>\n",
       "      <td>2013.0</td>\n",
       "      <td>0.0</td>\n",
       "    </tr>\n",
       "    <tr>\n",
       "      <th>19</th>\n",
       "      <td>613</td>\n",
       "      <td>384</td>\n",
       "      <td>622</td>\n",
       "      <td>277</td>\n",
       "      <td>Orissa</td>\n",
       "      <td>2013.0</td>\n",
       "      <td>1896.0</td>\n",
       "    </tr>\n",
       "    <tr>\n",
       "      <th>20</th>\n",
       "      <td>606</td>\n",
       "      <td>168</td>\n",
       "      <td>325</td>\n",
       "      <td>112</td>\n",
       "      <td>Punjab</td>\n",
       "      <td>2013.0</td>\n",
       "      <td>1211.0</td>\n",
       "    </tr>\n",
       "    <tr>\n",
       "      <th>21</th>\n",
       "      <td>237</td>\n",
       "      <td>38</td>\n",
       "      <td>1050</td>\n",
       "      <td>64</td>\n",
       "      <td>Rajasthan</td>\n",
       "      <td>2013.0</td>\n",
       "      <td>1389.0</td>\n",
       "    </tr>\n",
       "    <tr>\n",
       "      <th>22</th>\n",
       "      <td>0</td>\n",
       "      <td>0</td>\n",
       "      <td>0</td>\n",
       "      <td>0</td>\n",
       "      <td>Sikkim</td>\n",
       "      <td>2013.0</td>\n",
       "      <td>0.0</td>\n",
       "    </tr>\n",
       "    <tr>\n",
       "      <th>23</th>\n",
       "      <td>1664</td>\n",
       "      <td>478</td>\n",
       "      <td>68</td>\n",
       "      <td>757</td>\n",
       "      <td>Tamilnadu</td>\n",
       "      <td>2013.0</td>\n",
       "      <td>2967.0</td>\n",
       "    </tr>\n",
       "    <tr>\n",
       "      <th>24</th>\n",
       "      <td>13</td>\n",
       "      <td>2</td>\n",
       "      <td>15</td>\n",
       "      <td>4</td>\n",
       "      <td>Tripura</td>\n",
       "      <td>2013.0</td>\n",
       "      <td>34.0</td>\n",
       "    </tr>\n",
       "    <tr>\n",
       "      <th>25</th>\n",
       "      <td>8093</td>\n",
       "      <td>212</td>\n",
       "      <td>7876</td>\n",
       "      <td>1353</td>\n",
       "      <td>Uttar Pradesh</td>\n",
       "      <td>2013.0</td>\n",
       "      <td>17534.0</td>\n",
       "    </tr>\n",
       "    <tr>\n",
       "      <th>26</th>\n",
       "      <td>42</td>\n",
       "      <td>72</td>\n",
       "      <td>205</td>\n",
       "      <td>29</td>\n",
       "      <td>Uttaranchal</td>\n",
       "      <td>2013.0</td>\n",
       "      <td>348.0</td>\n",
       "    </tr>\n",
       "    <tr>\n",
       "      <th>27</th>\n",
       "      <td>1889</td>\n",
       "      <td>460</td>\n",
       "      <td>2023</td>\n",
       "      <td>123</td>\n",
       "      <td>West Bengal</td>\n",
       "      <td>2013.0</td>\n",
       "      <td>4495.0</td>\n",
       "    </tr>\n",
       "    <tr>\n",
       "      <th>28</th>\n",
       "      <td>45</td>\n",
       "      <td>0</td>\n",
       "      <td>167</td>\n",
       "      <td>11</td>\n",
       "      <td>A &amp; N Islands</td>\n",
       "      <td>2013.0</td>\n",
       "      <td>223.0</td>\n",
       "    </tr>\n",
       "    <tr>\n",
       "      <th>29</th>\n",
       "      <td>265</td>\n",
       "      <td>0</td>\n",
       "      <td>0</td>\n",
       "      <td>85</td>\n",
       "      <td>Chandigarh</td>\n",
       "      <td>2013.0</td>\n",
       "      <td>350.0</td>\n",
       "    </tr>\n",
       "    <tr>\n",
       "      <th>30</th>\n",
       "      <td>0</td>\n",
       "      <td>0</td>\n",
       "      <td>0</td>\n",
       "      <td>0</td>\n",
       "      <td>D &amp; N Haveli</td>\n",
       "      <td>2013.0</td>\n",
       "      <td>0.0</td>\n",
       "    </tr>\n",
       "    <tr>\n",
       "      <th>31</th>\n",
       "      <td>0</td>\n",
       "      <td>0</td>\n",
       "      <td>0</td>\n",
       "      <td>0</td>\n",
       "      <td>Daman &amp; Diu</td>\n",
       "      <td>2013.0</td>\n",
       "      <td>0.0</td>\n",
       "    </tr>\n",
       "    <tr>\n",
       "      <th>32</th>\n",
       "      <td>1187</td>\n",
       "      <td>174</td>\n",
       "      <td>1458</td>\n",
       "      <td>908</td>\n",
       "      <td>Delhi</td>\n",
       "      <td>2013.0</td>\n",
       "      <td>3727.0</td>\n",
       "    </tr>\n",
       "    <tr>\n",
       "      <th>33</th>\n",
       "      <td>0</td>\n",
       "      <td>0</td>\n",
       "      <td>0</td>\n",
       "      <td>0</td>\n",
       "      <td>Lakshadweep</td>\n",
       "      <td>2013.0</td>\n",
       "      <td>0.0</td>\n",
       "    </tr>\n",
       "    <tr>\n",
       "      <th>34</th>\n",
       "      <td>0</td>\n",
       "      <td>0</td>\n",
       "      <td>0</td>\n",
       "      <td>0</td>\n",
       "      <td>Pondicherry</td>\n",
       "      <td>2013.0</td>\n",
       "      <td>0.0</td>\n",
       "    </tr>\n",
       "    <tr>\n",
       "      <th>35</th>\n",
       "      <td>53720</td>\n",
       "      <td>7356</td>\n",
       "      <td>37027</td>\n",
       "      <td>8311</td>\n",
       "      <td>NaN</td>\n",
       "      <td>NaN</td>\n",
       "      <td>NaN</td>\n",
       "    </tr>\n",
       "  </tbody>\n",
       "</table>\n",
       "</div>"
      ],
      "text/plain": [
       "    No. of Inmates benefitted by Adult Education  \\\n",
       "0                                          13758   \n",
       "1                                              0   \n",
       "2                                            750   \n",
       "3                                           3013   \n",
       "4                                           1803   \n",
       "5                                              0   \n",
       "6                                           3133   \n",
       "7                                            774   \n",
       "8                                             80   \n",
       "9                                            124   \n",
       "10                                          2595   \n",
       "11                                           568   \n",
       "12                                            96   \n",
       "13                                          9574   \n",
       "14                                          2743   \n",
       "15                                             0   \n",
       "16                                            30   \n",
       "17                                            25   \n",
       "18                                             0   \n",
       "19                                           613   \n",
       "20                                           606   \n",
       "21                                           237   \n",
       "22                                             0   \n",
       "23                                          1664   \n",
       "24                                            13   \n",
       "25                                          8093   \n",
       "26                                            42   \n",
       "27                                          1889   \n",
       "28                                            45   \n",
       "29                                           265   \n",
       "30                                             0   \n",
       "31                                             0   \n",
       "32                                          1187   \n",
       "33                                             0   \n",
       "34                                             0   \n",
       "35                                         53720   \n",
       "\n",
       "    No. of Inmates benefitted by Computer Course  \\\n",
       "0                                            170   \n",
       "1                                              0   \n",
       "2                                             30   \n",
       "3                                           1417   \n",
       "4                                            103   \n",
       "5                                             88   \n",
       "6                                            966   \n",
       "7                                            243   \n",
       "8                                              0   \n",
       "9                                             34   \n",
       "10                                           574   \n",
       "11                                            12   \n",
       "12                                           250   \n",
       "13                                           151   \n",
       "14                                          1330   \n",
       "15                                             0   \n",
       "16                                             0   \n",
       "17                                             0   \n",
       "18                                             0   \n",
       "19                                           384   \n",
       "20                                           168   \n",
       "21                                            38   \n",
       "22                                             0   \n",
       "23                                           478   \n",
       "24                                             2   \n",
       "25                                           212   \n",
       "26                                            72   \n",
       "27                                           460   \n",
       "28                                             0   \n",
       "29                                             0   \n",
       "30                                             0   \n",
       "31                                             0   \n",
       "32                                           174   \n",
       "33                                             0   \n",
       "34                                             0   \n",
       "35                                          7356   \n",
       "\n",
       "    No. of Inmates benefitted by Elementary Education  \\\n",
       "0                                                9480   \n",
       "1                                                   0   \n",
       "2                                                 676   \n",
       "3                                                1693   \n",
       "4                                                1664   \n",
       "5                                                   7   \n",
       "6                                                2310   \n",
       "7                                                1131   \n",
       "8                                                  33   \n",
       "9                                                 102   \n",
       "10                                               3008   \n",
       "11                                                633   \n",
       "12                                                156   \n",
       "13                                               1978   \n",
       "14                                                346   \n",
       "15                                                  0   \n",
       "16                                                  1   \n",
       "17                                                  0   \n",
       "18                                                  0   \n",
       "19                                                622   \n",
       "20                                                325   \n",
       "21                                               1050   \n",
       "22                                                  0   \n",
       "23                                                 68   \n",
       "24                                                 15   \n",
       "25                                               7876   \n",
       "26                                                205   \n",
       "27                                               2023   \n",
       "28                                                167   \n",
       "29                                                  0   \n",
       "30                                                  0   \n",
       "31                                                  0   \n",
       "32                                               1458   \n",
       "33                                                  0   \n",
       "34                                                  0   \n",
       "35                                              37027   \n",
       "\n",
       "    No. of Inmates benefitted by Higher Education           STATE/UT    YEAR  \\\n",
       "0                                             672     Andhra Pradesh  2013.0   \n",
       "1                                               0  Arunachal Pradesh  2013.0   \n",
       "2                                              14              Assam  2013.0   \n",
       "3                                             125              Bihar  2013.0   \n",
       "4                                             192        Chhatisgarh  2013.0   \n",
       "5                                               6                Goa  2013.0   \n",
       "6                                             875            Gujarat  2013.0   \n",
       "7                                            1112            Haryana  2013.0   \n",
       "8                                              26   Himachal Pradesh  2013.0   \n",
       "9                                              33    Jammu & Kashmir  2013.0   \n",
       "10                                            138          Jharkhand  2013.0   \n",
       "11                                            170          Karnataka  2013.0   \n",
       "12                                             24             Kerala  2013.0   \n",
       "13                                            301     Madhya Pradesh  2013.0   \n",
       "14                                            882        Maharashtra  2013.0   \n",
       "15                                              0            Manipur  2013.0   \n",
       "16                                              0          Meghalaya  2013.0   \n",
       "17                                             18            Mizoram  2013.0   \n",
       "18                                              0           Nagaland  2013.0   \n",
       "19                                            277             Orissa  2013.0   \n",
       "20                                            112             Punjab  2013.0   \n",
       "21                                             64          Rajasthan  2013.0   \n",
       "22                                              0             Sikkim  2013.0   \n",
       "23                                            757          Tamilnadu  2013.0   \n",
       "24                                              4            Tripura  2013.0   \n",
       "25                                           1353      Uttar Pradesh  2013.0   \n",
       "26                                             29        Uttaranchal  2013.0   \n",
       "27                                            123        West Bengal  2013.0   \n",
       "28                                             11      A & N Islands  2013.0   \n",
       "29                                             85         Chandigarh  2013.0   \n",
       "30                                              0       D & N Haveli  2013.0   \n",
       "31                                              0        Daman & Diu  2013.0   \n",
       "32                                            908              Delhi  2013.0   \n",
       "33                                              0        Lakshadweep  2013.0   \n",
       "34                                              0        Pondicherry  2013.0   \n",
       "35                                           8311                NaN     NaN   \n",
       "\n",
       "    total_benefitted  \n",
       "0            24080.0  \n",
       "1                0.0  \n",
       "2             1470.0  \n",
       "3             6248.0  \n",
       "4             3762.0  \n",
       "5              101.0  \n",
       "6             7284.0  \n",
       "7             3260.0  \n",
       "8              139.0  \n",
       "9              293.0  \n",
       "10            6315.0  \n",
       "11            1383.0  \n",
       "12             526.0  \n",
       "13           12004.0  \n",
       "14            5301.0  \n",
       "15               0.0  \n",
       "16              31.0  \n",
       "17              43.0  \n",
       "18               0.0  \n",
       "19            1896.0  \n",
       "20            1211.0  \n",
       "21            1389.0  \n",
       "22               0.0  \n",
       "23            2967.0  \n",
       "24              34.0  \n",
       "25           17534.0  \n",
       "26             348.0  \n",
       "27            4495.0  \n",
       "28             223.0  \n",
       "29             350.0  \n",
       "30               0.0  \n",
       "31               0.0  \n",
       "32            3727.0  \n",
       "33               0.0  \n",
       "34               0.0  \n",
       "35               NaN  "
      ]
     },
     "execution_count": 12,
     "metadata": {},
     "output_type": "execute_result"
    }
   ],
   "source": [
    "df.append(pd.DataFrame.from_dict([dict( zip(df.keys().tolist(),totalList))]), ignore_index = True)"
   ]
  },
  {
   "cell_type": "code",
   "execution_count": 13,
   "metadata": {},
   "outputs": [],
   "source": [
    "# Plotting\n",
    "# a.\n",
    "import matplotlib.pyplot as plt\n",
    "%matplotlib inline\n",
    "plt.rcParams['figure.figsize'] = (20.0, 10.0)\n",
    "plt.rcParams['font.family'] = \"serif\""
   ]
  },
  {
   "cell_type": "code",
   "execution_count": 14,
   "metadata": {
    "scrolled": true
   },
   "outputs": [
    {
     "data": {
      "text/plain": [
       "['Andhra Pradesh',\n",
       " 'Arunachal Pradesh',\n",
       " 'Assam',\n",
       " 'Bihar',\n",
       " 'Chhatisgarh',\n",
       " 'Goa',\n",
       " 'Gujarat',\n",
       " 'Haryana',\n",
       " 'Himachal Pradesh',\n",
       " 'Jammu & Kashmir',\n",
       " 'Jharkhand',\n",
       " 'Karnataka',\n",
       " 'Kerala',\n",
       " 'Madhya Pradesh',\n",
       " 'Maharashtra',\n",
       " 'Manipur',\n",
       " 'Meghalaya',\n",
       " 'Mizoram',\n",
       " 'Nagaland',\n",
       " 'Orissa',\n",
       " 'Punjab',\n",
       " 'Rajasthan',\n",
       " 'Sikkim',\n",
       " 'Tamilnadu',\n",
       " 'Tripura',\n",
       " 'Uttar Pradesh',\n",
       " 'Uttaranchal',\n",
       " 'West Bengal',\n",
       " 'A & N Islands',\n",
       " 'Chandigarh',\n",
       " 'D & N Haveli',\n",
       " 'Daman & Diu',\n",
       " 'Delhi',\n",
       " 'Lakshadweep',\n",
       " 'Pondicherry']"
      ]
     },
     "execution_count": 14,
     "metadata": {},
     "output_type": "execute_result"
    }
   ],
   "source": [
    "x = df['STATE/UT'].values.tolist()\n",
    "x"
   ]
  },
  {
   "cell_type": "code",
   "execution_count": 15,
   "metadata": {
    "scrolled": true
   },
   "outputs": [
    {
     "data": {
      "text/plain": [
       "[24080,\n",
       " 0,\n",
       " 1470,\n",
       " 6248,\n",
       " 3762,\n",
       " 101,\n",
       " 7284,\n",
       " 3260,\n",
       " 139,\n",
       " 293,\n",
       " 6315,\n",
       " 1383,\n",
       " 526,\n",
       " 12004,\n",
       " 5301,\n",
       " 0,\n",
       " 31,\n",
       " 43,\n",
       " 0,\n",
       " 1896,\n",
       " 1211,\n",
       " 1389,\n",
       " 0,\n",
       " 2967,\n",
       " 34,\n",
       " 17534,\n",
       " 348,\n",
       " 4495,\n",
       " 223,\n",
       " 350,\n",
       " 0,\n",
       " 0,\n",
       " 3727,\n",
       " 0,\n",
       " 0]"
      ]
     },
     "execution_count": 15,
     "metadata": {},
     "output_type": "execute_result"
    }
   ],
   "source": [
    "y = df['total_benefitted'].values.tolist()\n",
    "y"
   ]
  },
  {
   "cell_type": "code",
   "execution_count": 16,
   "metadata": {},
   "outputs": [
    {
     "data": {
      "text/plain": [
       "<BarContainer object of 35 artists>"
      ]
     },
     "execution_count": 16,
     "metadata": {},
     "output_type": "execute_result"
    },
    {
     "data": {
      "image/png": "[encoded data removed]",
      "text/plain": [
       "<Figure size 432x288 with 1 Axes>"
      ]
     },
     "metadata": {},
     "output_type": "display_data"
    }
   ],
   "source": [
    "plt.bar(x, y, align='center', alpha=0.5)"
   ]
  },
  {
   "cell_type": "code",
   "execution_count": 17,
   "metadata": {},
   "outputs": [
    {
     "data": {
      "text/plain": [
       "['No. of Inmates benefitted by Elementary Education',\n",
       " 'No. of Inmates benefitted by Adult Education',\n",
       " 'No. of Inmates benefitted by Higher Education',\n",
       " 'No. of Inmates benefitted by Computer Course']"
      ]
     },
     "execution_count": 17,
     "metadata": {},
     "output_type": "execute_result"
    }
   ],
   "source": [
    "df.keys().tolist()[2:-1]"
   ]
  },
  {
   "cell_type": "code",
   "execution_count": 18,
   "metadata": {},
   "outputs": [
    {
     "data": {
      "text/plain": [
       "([<matplotlib.patches.Wedge at 0x7fe1e2a49be0>,\n",
       "  <matplotlib.patches.Wedge at 0x7fe1e2a505c0>,\n",
       "  <matplotlib.patches.Wedge at 0x7fe1e2a50f60>,\n",
       "  <matplotlib.patches.Wedge at 0x7fe1e2a5a940>],\n",
       " [Text(-1.0152992676038635, -0.4232816995844003, 'No. of Inmates benefitted by Elementary Education'),\n",
       "  Text(1.0974924937466948, -0.07423089767516729, 'No. of Inmates benefitted by Adult Education'),\n",
       "  Text(-0.21095365752223977, 1.0795825833987829, 'No. of Inmates benefitted by Higher Education'),\n",
       "  Text(-0.6705097975572272, 0.8720186989851574, 'No. of Inmates benefitted by Computer Course')],\n",
       " [Text(-0.5537996005111983, -0.23088092704603652, '34.8%'),\n",
       "  Text(0.5986322693163789, -0.04048958055009125, '50.5%'),\n",
       "  Text(-0.11506563137576713, 0.5888632273084269, '7.8%'),\n",
       "  Text(-0.36573261684939656, 0.47564656308281306, '6.9%')])"
      ]
     },
     "execution_count": 18,
     "metadata": {},
     "output_type": "execute_result"
    },
    {
     "data": {
      "image/png": "[encoded data removed]",
      "text/plain": [
       "<Figure size 432x288 with 1 Axes>"
      ]
     },
     "metadata": {},
     "output_type": "display_data"
    }
   ],
   "source": [
    "# b.\n",
    "plt.pie(totalList[2:-1], labels=df.keys().tolist()[2:-1],\n",
    "autopct='%1.1f%%', shadow=True, startangle=140)"
   ]
  },
  {
   "cell_type": "markdown",
   "metadata": {},
   "source": [
    "## Project 2"
   ]
  },
  {
   "cell_type": "code",
   "execution_count": 19,
   "metadata": {},
   "outputs": [
    {
     "data": {
      "text/html": [
       "<div>\n",
       "<style scoped>\n",
       "    .dataframe tbody tr th:only-of-type {\n",
       "        vertical-align: middle;\n",
       "    }\n",
       "\n",
       "    .dataframe tbody tr th {\n",
       "        vertical-align: top;\n",
       "    }\n",
       "\n",
       "    .dataframe thead th {\n",
       "        text-align: right;\n",
       "    }\n",
       "</style>\n",
       "<table border=\"1\" class=\"dataframe\">\n",
       "  <thead>\n",
       "    <tr style=\"text-align: right;\">\n",
       "      <th></th>\n",
       "      <th>name</th>\n",
       "      <th>mfr</th>\n",
       "      <th>type</th>\n",
       "      <th>calories</th>\n",
       "      <th>protein</th>\n",
       "      <th>fat</th>\n",
       "      <th>sodium</th>\n",
       "      <th>fiber</th>\n",
       "      <th>carbo</th>\n",
       "      <th>sugars</th>\n",
       "      <th>potass</th>\n",
       "      <th>vitamins</th>\n",
       "      <th>shelf</th>\n",
       "      <th>weight</th>\n",
       "      <th>cups</th>\n",
       "      <th>rating</th>\n",
       "    </tr>\n",
       "  </thead>\n",
       "  <tbody>\n",
       "    <tr>\n",
       "      <th>0</th>\n",
       "      <td>100% Bran</td>\n",
       "      <td>N</td>\n",
       "      <td>C</td>\n",
       "      <td>70</td>\n",
       "      <td>4</td>\n",
       "      <td>1</td>\n",
       "      <td>130</td>\n",
       "      <td>10.0</td>\n",
       "      <td>5.0</td>\n",
       "      <td>6</td>\n",
       "      <td>280</td>\n",
       "      <td>25</td>\n",
       "      <td>3</td>\n",
       "      <td>1.0</td>\n",
       "      <td>0.33</td>\n",
       "      <td>68.402973</td>\n",
       "    </tr>\n",
       "    <tr>\n",
       "      <th>1</th>\n",
       "      <td>100% Natural Bran</td>\n",
       "      <td>Q</td>\n",
       "      <td>C</td>\n",
       "      <td>120</td>\n",
       "      <td>3</td>\n",
       "      <td>5</td>\n",
       "      <td>15</td>\n",
       "      <td>2.0</td>\n",
       "      <td>8.0</td>\n",
       "      <td>8</td>\n",
       "      <td>135</td>\n",
       "      <td>0</td>\n",
       "      <td>3</td>\n",
       "      <td>1.0</td>\n",
       "      <td>1.00</td>\n",
       "      <td>33.983679</td>\n",
       "    </tr>\n",
       "    <tr>\n",
       "      <th>2</th>\n",
       "      <td>All-Bran</td>\n",
       "      <td>K</td>\n",
       "      <td>C</td>\n",
       "      <td>70</td>\n",
       "      <td>4</td>\n",
       "      <td>1</td>\n",
       "      <td>260</td>\n",
       "      <td>9.0</td>\n",
       "      <td>7.0</td>\n",
       "      <td>5</td>\n",
       "      <td>320</td>\n",
       "      <td>25</td>\n",
       "      <td>3</td>\n",
       "      <td>1.0</td>\n",
       "      <td>0.33</td>\n",
       "      <td>59.425505</td>\n",
       "    </tr>\n",
       "    <tr>\n",
       "      <th>3</th>\n",
       "      <td>All-Bran with Extra Fiber</td>\n",
       "      <td>K</td>\n",
       "      <td>C</td>\n",
       "      <td>50</td>\n",
       "      <td>4</td>\n",
       "      <td>0</td>\n",
       "      <td>140</td>\n",
       "      <td>14.0</td>\n",
       "      <td>8.0</td>\n",
       "      <td>0</td>\n",
       "      <td>330</td>\n",
       "      <td>25</td>\n",
       "      <td>3</td>\n",
       "      <td>1.0</td>\n",
       "      <td>0.50</td>\n",
       "      <td>93.704912</td>\n",
       "    </tr>\n",
       "    <tr>\n",
       "      <th>4</th>\n",
       "      <td>Almond Delight</td>\n",
       "      <td>R</td>\n",
       "      <td>C</td>\n",
       "      <td>110</td>\n",
       "      <td>2</td>\n",
       "      <td>2</td>\n",
       "      <td>200</td>\n",
       "      <td>1.0</td>\n",
       "      <td>14.0</td>\n",
       "      <td>8</td>\n",
       "      <td>-1</td>\n",
       "      <td>25</td>\n",
       "      <td>3</td>\n",
       "      <td>1.0</td>\n",
       "      <td>0.75</td>\n",
       "      <td>34.384843</td>\n",
       "    </tr>\n",
       "  </tbody>\n",
       "</table>\n",
       "</div>"
      ],
      "text/plain": [
       "                        name mfr type  calories  protein  fat  sodium  fiber  \\\n",
       "0                  100% Bran   N    C        70        4    1     130   10.0   \n",
       "1          100% Natural Bran   Q    C       120        3    5      15    2.0   \n",
       "2                   All-Bran   K    C        70        4    1     260    9.0   \n",
       "3  All-Bran with Extra Fiber   K    C        50        4    0     140   14.0   \n",
       "4             Almond Delight   R    C       110        2    2     200    1.0   \n",
       "\n",
       "   carbo  sugars  potass  vitamins  shelf  weight  cups     rating  \n",
       "0    5.0       6     280        25      3     1.0  0.33  68.402973  \n",
       "1    8.0       8     135         0      3     1.0  1.00  33.983679  \n",
       "2    7.0       5     320        25      3     1.0  0.33  59.425505  \n",
       "3    8.0       0     330        25      3     1.0  0.50  93.704912  \n",
       "4   14.0       8      -1        25      3     1.0  0.75  34.384843  "
      ]
     },
     "execution_count": 19,
     "metadata": {},
     "output_type": "execute_result"
    }
   ],
   "source": [
    "# 1. Data Loading\n",
    "cereal_data = pd.read_csv('cereal.csv')\n",
    "cereal_data.head()"
   ]
  },
  {
   "cell_type": "code",
   "execution_count": 20,
   "metadata": {},
   "outputs": [],
   "source": [
    "sugars = cereal_data['sugars']\n",
    "vitamins = cereal_data['vitamins']\n",
    "name = cereal_data['name']"
   ]
  },
  {
   "cell_type": "code",
   "execution_count": 21,
   "metadata": {},
   "outputs": [
    {
     "data": {
      "text/plain": [
       "<matplotlib.legend.Legend at 0x7fe1e2a16a20>"
      ]
     },
     "execution_count": 21,
     "metadata": {},
     "output_type": "execute_result"
    },
    {
     "data": {
      "image/png": "[encoded data removed]",
      "text/plain": [
       "<Figure size 432x288 with 1 Axes>"
      ]
     },
     "metadata": {},
     "output_type": "display_data"
    }
   ],
   "source": [
    "plt.hist([sugars, vitamins], color=['orange', 'green'])\n",
    "plt.xlabel(\"Cereal Name\")\n",
    "plt.ylabel(\"Amount\")\n",
    "plt.legend([\"sugar\", \"vitamins\"])"
   ]
  },
  {
   "cell_type": "code",
   "execution_count": 22,
   "metadata": {},
   "outputs": [
    {
     "data": {
      "text/plain": [
       "{'A': 'American Home Foods Products',\n",
       " 'G': 'General Mills',\n",
       " 'K': 'Kelloggs',\n",
       " 'N': 'Nabisco',\n",
       " 'P': 'Post',\n",
       " 'Q': 'Quaker Oats',\n",
       " 'R': 'Raslston Purina'}"
      ]
     },
     "execution_count": 22,
     "metadata": {},
     "output_type": "execute_result"
    }
   ],
   "source": [
    "# 2. Data Manipulation\n",
    "mfr_map = {'N': 'Nabisco',\n",
    "        'Q': 'Quaker Oats',\n",
    "        'K': 'Kelloggs',\n",
    "        'R': 'Raslston Purina',\n",
    "        'G': 'General Mills' ,\n",
    "        'P' :'Post' ,\n",
    "        'A':'American Home Foods Products'}\n",
    "mfr_map"
   ]
  },
  {
   "cell_type": "code",
   "execution_count": 23,
   "metadata": {
    "scrolled": true
   },
   "outputs": [
    {
     "data": {
      "text/plain": [
       "['Nabisco',\n",
       " 'Quaker Oats',\n",
       " 'Kelloggs',\n",
       " 'Kelloggs',\n",
       " 'Raslston Purina',\n",
       " 'General Mills',\n",
       " 'Kelloggs',\n",
       " 'General Mills',\n",
       " 'Raslston Purina',\n",
       " 'Post',\n",
       " 'Quaker Oats',\n",
       " 'General Mills',\n",
       " 'General Mills',\n",
       " 'General Mills',\n",
       " 'General Mills',\n",
       " 'Raslston Purina',\n",
       " 'Kelloggs',\n",
       " 'Kelloggs',\n",
       " 'General Mills',\n",
       " 'Kelloggs',\n",
       " 'Nabisco',\n",
       " 'Kelloggs',\n",
       " 'General Mills',\n",
       " 'Raslston Purina',\n",
       " 'Kelloggs',\n",
       " 'Kelloggs',\n",
       " 'Kelloggs',\n",
       " 'Post',\n",
       " 'Kelloggs',\n",
       " 'Post',\n",
       " 'Post',\n",
       " 'General Mills',\n",
       " 'Post',\n",
       " 'Post',\n",
       " 'Post',\n",
       " 'Quaker Oats',\n",
       " 'General Mills',\n",
       " 'Post',\n",
       " 'Kelloggs',\n",
       " 'Kelloggs',\n",
       " 'General Mills',\n",
       " 'Quaker Oats',\n",
       " 'General Mills',\n",
       " 'American Home Foods Products',\n",
       " 'Raslston Purina',\n",
       " 'Raslston Purina',\n",
       " 'Kelloggs',\n",
       " 'General Mills',\n",
       " 'Kelloggs',\n",
       " 'Kelloggs',\n",
       " 'Kelloggs',\n",
       " 'General Mills',\n",
       " 'Post',\n",
       " 'Kelloggs',\n",
       " 'Quaker Oats',\n",
       " 'Quaker Oats',\n",
       " 'Quaker Oats',\n",
       " 'Quaker Oats',\n",
       " 'Kelloggs',\n",
       " 'General Mills',\n",
       " 'Kelloggs',\n",
       " 'Raslston Purina',\n",
       " 'Kelloggs',\n",
       " 'Nabisco',\n",
       " 'Nabisco',\n",
       " 'Nabisco',\n",
       " 'Kelloggs',\n",
       " 'Kelloggs',\n",
       " 'Nabisco',\n",
       " 'General Mills',\n",
       " 'General Mills',\n",
       " 'General Mills',\n",
       " 'General Mills',\n",
       " 'General Mills',\n",
       " 'Raslston Purina',\n",
       " 'General Mills',\n",
       " 'General Mills']"
      ]
     },
     "execution_count": 23,
     "metadata": {},
     "output_type": "execute_result"
    }
   ],
   "source": [
    "code_list = []\n",
    "for i in range(len(cereal_data['mfr'].values)):\n",
    "    if cereal_data['mfr'].values[i] == 'N':\n",
    "        code_list.append('Nabisco')\n",
    "    elif cereal_data['mfr'].values[i] == 'Q':\n",
    "        code_list.append('Quaker Oats')\n",
    "    elif cereal_data['mfr'].values[i] == 'K':\n",
    "        code_list.append('Kelloggs')\n",
    "    elif cereal_data['mfr'].values[i] == 'R':\n",
    "        code_list.append('Raslston Purina')\n",
    "    elif cereal_data['mfr'].values[i] == 'G':\n",
    "        code_list.append('General Mills')\n",
    "    elif cereal_data['mfr'].values[i] == 'P':\n",
    "        code_list.append('Post')\n",
    "    elif cereal_data['mfr'].values[i] == 'A':\n",
    "        code_list.append('American Home Foods Products')\n",
    "code_list        "
   ]
  },
  {
   "cell_type": "code",
   "execution_count": 24,
   "metadata": {},
   "outputs": [],
   "source": [
    "cereal_data['code_full_name'] = code_list"
   ]
  },
  {
   "cell_type": "code",
   "execution_count": 25,
   "metadata": {},
   "outputs": [
    {
     "data": {
      "text/html": [
       "<div>\n",
       "<style scoped>\n",
       "    .dataframe tbody tr th:only-of-type {\n",
       "        vertical-align: middle;\n",
       "    }\n",
       "\n",
       "    .dataframe tbody tr th {\n",
       "        vertical-align: top;\n",
       "    }\n",
       "\n",
       "    .dataframe thead th {\n",
       "        text-align: right;\n",
       "    }\n",
       "</style>\n",
       "<table border=\"1\" class=\"dataframe\">\n",
       "  <thead>\n",
       "    <tr style=\"text-align: right;\">\n",
       "      <th></th>\n",
       "      <th>name</th>\n",
       "      <th>mfr</th>\n",
       "      <th>type</th>\n",
       "      <th>calories</th>\n",
       "      <th>protein</th>\n",
       "      <th>fat</th>\n",
       "      <th>sodium</th>\n",
       "      <th>fiber</th>\n",
       "      <th>carbo</th>\n",
       "      <th>sugars</th>\n",
       "      <th>potass</th>\n",
       "      <th>vitamins</th>\n",
       "      <th>shelf</th>\n",
       "      <th>weight</th>\n",
       "      <th>cups</th>\n",
       "      <th>rating</th>\n",
       "      <th>code_full_name</th>\n",
       "    </tr>\n",
       "  </thead>\n",
       "  <tbody>\n",
       "    <tr>\n",
       "      <th>0</th>\n",
       "      <td>100% Bran</td>\n",
       "      <td>N</td>\n",
       "      <td>C</td>\n",
       "      <td>70</td>\n",
       "      <td>4</td>\n",
       "      <td>1</td>\n",
       "      <td>130</td>\n",
       "      <td>10.0</td>\n",
       "      <td>5.0</td>\n",
       "      <td>6</td>\n",
       "      <td>280</td>\n",
       "      <td>25</td>\n",
       "      <td>3</td>\n",
       "      <td>1.0</td>\n",
       "      <td>0.33</td>\n",
       "      <td>68.402973</td>\n",
       "      <td>Nabisco</td>\n",
       "    </tr>\n",
       "    <tr>\n",
       "      <th>1</th>\n",
       "      <td>100% Natural Bran</td>\n",
       "      <td>Q</td>\n",
       "      <td>C</td>\n",
       "      <td>120</td>\n",
       "      <td>3</td>\n",
       "      <td>5</td>\n",
       "      <td>15</td>\n",
       "      <td>2.0</td>\n",
       "      <td>8.0</td>\n",
       "      <td>8</td>\n",
       "      <td>135</td>\n",
       "      <td>0</td>\n",
       "      <td>3</td>\n",
       "      <td>1.0</td>\n",
       "      <td>1.00</td>\n",
       "      <td>33.983679</td>\n",
       "      <td>Quaker Oats</td>\n",
       "    </tr>\n",
       "    <tr>\n",
       "      <th>2</th>\n",
       "      <td>All-Bran</td>\n",
       "      <td>K</td>\n",
       "      <td>C</td>\n",
       "      <td>70</td>\n",
       "      <td>4</td>\n",
       "      <td>1</td>\n",
       "      <td>260</td>\n",
       "      <td>9.0</td>\n",
       "      <td>7.0</td>\n",
       "      <td>5</td>\n",
       "      <td>320</td>\n",
       "      <td>25</td>\n",
       "      <td>3</td>\n",
       "      <td>1.0</td>\n",
       "      <td>0.33</td>\n",
       "      <td>59.425505</td>\n",
       "      <td>Kelloggs</td>\n",
       "    </tr>\n",
       "    <tr>\n",
       "      <th>3</th>\n",
       "      <td>All-Bran with Extra Fiber</td>\n",
       "      <td>K</td>\n",
       "      <td>C</td>\n",
       "      <td>50</td>\n",
       "      <td>4</td>\n",
       "      <td>0</td>\n",
       "      <td>140</td>\n",
       "      <td>14.0</td>\n",
       "      <td>8.0</td>\n",
       "      <td>0</td>\n",
       "      <td>330</td>\n",
       "      <td>25</td>\n",
       "      <td>3</td>\n",
       "      <td>1.0</td>\n",
       "      <td>0.50</td>\n",
       "      <td>93.704912</td>\n",
       "      <td>Kelloggs</td>\n",
       "    </tr>\n",
       "    <tr>\n",
       "      <th>4</th>\n",
       "      <td>Almond Delight</td>\n",
       "      <td>R</td>\n",
       "      <td>C</td>\n",
       "      <td>110</td>\n",
       "      <td>2</td>\n",
       "      <td>2</td>\n",
       "      <td>200</td>\n",
       "      <td>1.0</td>\n",
       "      <td>14.0</td>\n",
       "      <td>8</td>\n",
       "      <td>-1</td>\n",
       "      <td>25</td>\n",
       "      <td>3</td>\n",
       "      <td>1.0</td>\n",
       "      <td>0.75</td>\n",
       "      <td>34.384843</td>\n",
       "      <td>Raslston Purina</td>\n",
       "    </tr>\n",
       "  </tbody>\n",
       "</table>\n",
       "</div>"
      ],
      "text/plain": [
       "                        name mfr type  calories  protein  fat  sodium  fiber  \\\n",
       "0                  100% Bran   N    C        70        4    1     130   10.0   \n",
       "1          100% Natural Bran   Q    C       120        3    5      15    2.0   \n",
       "2                   All-Bran   K    C        70        4    1     260    9.0   \n",
       "3  All-Bran with Extra Fiber   K    C        50        4    0     140   14.0   \n",
       "4             Almond Delight   R    C       110        2    2     200    1.0   \n",
       "\n",
       "   carbo  sugars  potass  vitamins  shelf  weight  cups     rating  \\\n",
       "0    5.0       6     280        25      3     1.0  0.33  68.402973   \n",
       "1    8.0       8     135         0      3     1.0  1.00  33.983679   \n",
       "2    7.0       5     320        25      3     1.0  0.33  59.425505   \n",
       "3    8.0       0     330        25      3     1.0  0.50  93.704912   \n",
       "4   14.0       8      -1        25      3     1.0  0.75  34.384843   \n",
       "\n",
       "    code_full_name  \n",
       "0          Nabisco  \n",
       "1      Quaker Oats  \n",
       "2         Kelloggs  \n",
       "3         Kelloggs  \n",
       "4  Raslston Purina  "
      ]
     },
     "execution_count": 25,
     "metadata": {},
     "output_type": "execute_result"
    }
   ],
   "source": [
    "cereal_data.head()"
   ]
  },
  {
   "cell_type": "code",
   "execution_count": 26,
   "metadata": {},
   "outputs": [
    {
     "data": {
      "text/plain": [
       "mfr\n",
       "A     1\n",
       "G    22\n",
       "K    23\n",
       "N     6\n",
       "P     9\n",
       "Q     8\n",
       "R     8\n",
       "dtype: int64"
      ]
     },
     "execution_count": 26,
     "metadata": {},
     "output_type": "execute_result"
    }
   ],
   "source": [
    "cereal_data.groupby(['mfr']).size()"
   ]
  },
  {
   "cell_type": "code",
   "execution_count": 27,
   "metadata": {},
   "outputs": [
    {
     "data": {
      "image/png": "[encoded data removed]",
      "text/plain": [
       "<Figure size 432x288 with 1 Axes>"
      ]
     },
     "metadata": {},
     "output_type": "display_data"
    }
   ],
   "source": [
    "height = cereal_data.groupby(['mfr']).size().values.tolist()\n",
    "bars = ('A', 'G', 'K', 'N', 'P', 'Q', 'R')\n",
    "y_pos = np.arange(len(bars))\n",
    "plt.barh(y_pos, height)\n",
    "# Create names on the y-axis\n",
    "plt.yticks(y_pos, bars)\n",
    "plt.xlabel(\"Number of cereals manufactured by manufacturer\")\n",
    "plt.ylabel(\"Cereals\")\n",
    "plt.show()"
   ]
  },
  {
   "cell_type": "code",
   "execution_count": 28,
   "metadata": {},
   "outputs": [],
   "source": [
    "X = cereal_data.loc[:, 'calories':'cups'].values\n",
    "y = cereal_data['rating'].values"
   ]
  },
  {
   "cell_type": "code",
   "execution_count": null,
   "metadata": {},
   "outputs": [],
   "source": []
  },
  {
   "cell_type": "code",
   "execution_count": 29,
   "metadata": {},
   "outputs": [],
   "source": [
    "train_X = X[:int(len(X)*0.75)]\n",
    "train_y = y[:int(len(y)*0.75)]\n",
    "test_X = X[int(len(X)*0.75):]\n",
    "test_y = y[int(len(X)*0.75):]"
   ]
  },
  {
   "cell_type": "code",
   "execution_count": 30,
   "metadata": {},
   "outputs": [
    {
     "data": {
      "text/plain": [
       "1.7605796073502944e-13"
      ]
     },
     "execution_count": 30,
     "metadata": {},
     "output_type": "execute_result"
    }
   ],
   "source": [
    "# Fitting liner regression\n",
    "from sklearn.linear_model import LinearRegression\n",
    "from sklearn.metrics import mean_squared_error\n",
    "reg = LinearRegression().fit(train_X, train_y)\n",
    "predict = reg.predict(test_X)\n",
    "mean_squared_error(test_y, predict)"
   ]
  },
  {
   "cell_type": "markdown",
   "metadata": {},
   "source": [
    "## Project 3"
   ]
  },
  {
   "cell_type": "code",
   "execution_count": 31,
   "metadata": {},
   "outputs": [
    {
     "data": {
      "text/html": [
       "<div>\n",
       "<style scoped>\n",
       "    .dataframe tbody tr th:only-of-type {\n",
       "        vertical-align: middle;\n",
       "    }\n",
       "\n",
       "    .dataframe tbody tr th {\n",
       "        vertical-align: top;\n",
       "    }\n",
       "\n",
       "    .dataframe thead th {\n",
       "        text-align: right;\n",
       "    }\n",
       "</style>\n",
       "<table border=\"1\" class=\"dataframe\">\n",
       "  <thead>\n",
       "    <tr style=\"text-align: right;\">\n",
       "      <th></th>\n",
       "      <th>Email</th>\n",
       "      <th>Address</th>\n",
       "      <th>Avatar</th>\n",
       "      <th>Avg_Session_Length</th>\n",
       "      <th>Time_on_App</th>\n",
       "      <th>Time_on_Website</th>\n",
       "      <th>Length_of_Membership</th>\n",
       "      <th>Yearly_Amount_Spent</th>\n",
       "    </tr>\n",
       "  </thead>\n",
       "  <tbody>\n",
       "    <tr>\n",
       "      <th>0</th>\n",
       "      <td>mstephenson@fernandez.com</td>\n",
       "      <td>835 Frank Tunnel\\nWrightmouth, MI 82180-9605</td>\n",
       "      <td>Violet</td>\n",
       "      <td>34.497268</td>\n",
       "      <td>12.655651</td>\n",
       "      <td>39.577668</td>\n",
       "      <td>4.082621</td>\n",
       "      <td>587.951054</td>\n",
       "    </tr>\n",
       "    <tr>\n",
       "      <th>1</th>\n",
       "      <td>hduke@hotmail.com</td>\n",
       "      <td>4547 Archer Common\\nDiazchester, CA 06566-8576</td>\n",
       "      <td>DarkGreen</td>\n",
       "      <td>31.926272</td>\n",
       "      <td>11.109461</td>\n",
       "      <td>37.268959</td>\n",
       "      <td>2.664034</td>\n",
       "      <td>392.204933</td>\n",
       "    </tr>\n",
       "    <tr>\n",
       "      <th>2</th>\n",
       "      <td>pallen@yahoo.com</td>\n",
       "      <td>24645 Valerie Unions Suite 582\\nCobbborough, D...</td>\n",
       "      <td>Bisque</td>\n",
       "      <td>33.000915</td>\n",
       "      <td>11.330278</td>\n",
       "      <td>37.110597</td>\n",
       "      <td>4.104543</td>\n",
       "      <td>487.547505</td>\n",
       "    </tr>\n",
       "    <tr>\n",
       "      <th>3</th>\n",
       "      <td>riverarebecca@gmail.com</td>\n",
       "      <td>1414 David Throughway\\nPort Jason, OH 22070-1220</td>\n",
       "      <td>SaddleBrown</td>\n",
       "      <td>34.305557</td>\n",
       "      <td>13.717514</td>\n",
       "      <td>36.721283</td>\n",
       "      <td>3.120179</td>\n",
       "      <td>581.852344</td>\n",
       "    </tr>\n",
       "    <tr>\n",
       "      <th>4</th>\n",
       "      <td>mstephens@davidson-herman.com</td>\n",
       "      <td>14023 Rodriguez Passage\\nPort Jacobville, PR 3...</td>\n",
       "      <td>MediumAquaMarine</td>\n",
       "      <td>33.330673</td>\n",
       "      <td>12.795189</td>\n",
       "      <td>37.536653</td>\n",
       "      <td>4.446308</td>\n",
       "      <td>599.406092</td>\n",
       "    </tr>\n",
       "  </tbody>\n",
       "</table>\n",
       "</div>"
      ],
      "text/plain": [
       "                           Email  \\\n",
       "0      mstephenson@fernandez.com   \n",
       "1              hduke@hotmail.com   \n",
       "2               pallen@yahoo.com   \n",
       "3        riverarebecca@gmail.com   \n",
       "4  mstephens@davidson-herman.com   \n",
       "\n",
       "                                             Address            Avatar  \\\n",
       "0       835 Frank Tunnel\\nWrightmouth, MI 82180-9605            Violet   \n",
       "1     4547 Archer Common\\nDiazchester, CA 06566-8576         DarkGreen   \n",
       "2  24645 Valerie Unions Suite 582\\nCobbborough, D...            Bisque   \n",
       "3   1414 David Throughway\\nPort Jason, OH 22070-1220       SaddleBrown   \n",
       "4  14023 Rodriguez Passage\\nPort Jacobville, PR 3...  MediumAquaMarine   \n",
       "\n",
       "   Avg_Session_Length  Time_on_App  Time_on_Website  Length_of_Membership  \\\n",
       "0           34.497268    12.655651        39.577668              4.082621   \n",
       "1           31.926272    11.109461        37.268959              2.664034   \n",
       "2           33.000915    11.330278        37.110597              4.104543   \n",
       "3           34.305557    13.717514        36.721283              3.120179   \n",
       "4           33.330673    12.795189        37.536653              4.446308   \n",
       "\n",
       "   Yearly_Amount_Spent  \n",
       "0           587.951054  \n",
       "1           392.204933  \n",
       "2           487.547505  \n",
       "3           581.852344  \n",
       "4           599.406092  "
      ]
     },
     "execution_count": 31,
     "metadata": {},
     "output_type": "execute_result"
    }
   ],
   "source": [
    "fyntraCustomer_df = pd.read_csv(\"FyntraCustomerData.csv\")\n",
    "fyntraCustomer_df.head()"
   ]
  },
  {
   "cell_type": "code",
   "execution_count": 32,
   "metadata": {},
   "outputs": [],
   "source": [
    "# 1. \n",
    "import seaborn as sns\n",
    "import scipy.stats as stats"
   ]
  },
  {
   "cell_type": "code",
   "execution_count": 33,
   "metadata": {},
   "outputs": [
    {
     "data": {
      "text/html": [
       "<div>\n",
       "<style scoped>\n",
       "    .dataframe tbody tr th:only-of-type {\n",
       "        vertical-align: middle;\n",
       "    }\n",
       "\n",
       "    .dataframe tbody tr th {\n",
       "        vertical-align: top;\n",
       "    }\n",
       "\n",
       "    .dataframe thead th {\n",
       "        text-align: right;\n",
       "    }\n",
       "</style>\n",
       "<table border=\"1\" class=\"dataframe\">\n",
       "  <thead>\n",
       "    <tr style=\"text-align: right;\">\n",
       "      <th></th>\n",
       "      <th>Time_on_Website</th>\n",
       "      <th>Yearly_Amount_Spent</th>\n",
       "    </tr>\n",
       "  </thead>\n",
       "  <tbody>\n",
       "    <tr>\n",
       "      <th>0</th>\n",
       "      <td>39.577668</td>\n",
       "      <td>587.951054</td>\n",
       "    </tr>\n",
       "    <tr>\n",
       "      <th>1</th>\n",
       "      <td>37.268959</td>\n",
       "      <td>392.204933</td>\n",
       "    </tr>\n",
       "    <tr>\n",
       "      <th>2</th>\n",
       "      <td>37.110597</td>\n",
       "      <td>487.547505</td>\n",
       "    </tr>\n",
       "    <tr>\n",
       "      <th>3</th>\n",
       "      <td>36.721283</td>\n",
       "      <td>581.852344</td>\n",
       "    </tr>\n",
       "    <tr>\n",
       "      <th>4</th>\n",
       "      <td>37.536653</td>\n",
       "      <td>599.406092</td>\n",
       "    </tr>\n",
       "  </tbody>\n",
       "</table>\n",
       "</div>"
      ],
      "text/plain": [
       "   Time_on_Website  Yearly_Amount_Spent\n",
       "0        39.577668           587.951054\n",
       "1        37.268959           392.204933\n",
       "2        37.110597           487.547505\n",
       "3        36.721283           581.852344\n",
       "4        37.536653           599.406092"
      ]
     },
     "execution_count": 33,
     "metadata": {},
     "output_type": "execute_result"
    }
   ],
   "source": [
    "timeOnWeb_yearlyAmountSpent = fyntraCustomer_df[['Time_on_Website', 'Yearly_Amount_Spent']]\n",
    "timeOnWeb_yearlyAmountSpent.head()"
   ]
  },
  {
   "cell_type": "code",
   "execution_count": 34,
   "metadata": {},
   "outputs": [
    {
     "name": "stderr",
     "output_type": "stream",
     "text": [
      "/home/junxiong/.local/lib/python3.6/site-packages/seaborn/axisgrid.py:1847: UserWarning: JointGrid annotation is deprecated and will be removed in a future release.\n",
      "  warnings.warn(UserWarning(msg))\n"
     ]
    },
    {
     "data": {
      "image/png": "[encoded data removed]",
      "text/plain": [
       "<Figure size 432x432 with 3 Axes>"
      ]
     },
     "metadata": {},
     "output_type": "display_data"
    }
   ],
   "source": [
    "sns.set(style=\"white\", color_codes=True)\n",
    "j = sns.jointplot(x=\"Time_on_Website\", y=\"Yearly_Amount_Spent\", data=timeOnWeb_yearlyAmountSpent, kind='hex')\n",
    "j.annotate(stats.pearsonr)\n",
    "plt.show()"
   ]
  },
  {
   "cell_type": "code",
   "execution_count": 35,
   "metadata": {},
   "outputs": [
    {
     "data": {
      "text/html": [
       "<div>\n",
       "<style scoped>\n",
       "    .dataframe tbody tr th:only-of-type {\n",
       "        vertical-align: middle;\n",
       "    }\n",
       "\n",
       "    .dataframe tbody tr th {\n",
       "        vertical-align: top;\n",
       "    }\n",
       "\n",
       "    .dataframe thead th {\n",
       "        text-align: right;\n",
       "    }\n",
       "</style>\n",
       "<table border=\"1\" class=\"dataframe\">\n",
       "  <thead>\n",
       "    <tr style=\"text-align: right;\">\n",
       "      <th></th>\n",
       "      <th>Time_on_App</th>\n",
       "      <th>Yearly_Amount_Spent</th>\n",
       "    </tr>\n",
       "  </thead>\n",
       "  <tbody>\n",
       "    <tr>\n",
       "      <th>0</th>\n",
       "      <td>12.655651</td>\n",
       "      <td>587.951054</td>\n",
       "    </tr>\n",
       "    <tr>\n",
       "      <th>1</th>\n",
       "      <td>11.109461</td>\n",
       "      <td>392.204933</td>\n",
       "    </tr>\n",
       "    <tr>\n",
       "      <th>2</th>\n",
       "      <td>11.330278</td>\n",
       "      <td>487.547505</td>\n",
       "    </tr>\n",
       "    <tr>\n",
       "      <th>3</th>\n",
       "      <td>13.717514</td>\n",
       "      <td>581.852344</td>\n",
       "    </tr>\n",
       "    <tr>\n",
       "      <th>4</th>\n",
       "      <td>12.795189</td>\n",
       "      <td>599.406092</td>\n",
       "    </tr>\n",
       "  </tbody>\n",
       "</table>\n",
       "</div>"
      ],
      "text/plain": [
       "   Time_on_App  Yearly_Amount_Spent\n",
       "0    12.655651           587.951054\n",
       "1    11.109461           392.204933\n",
       "2    11.330278           487.547505\n",
       "3    13.717514           581.852344\n",
       "4    12.795189           599.406092"
      ]
     },
     "execution_count": 35,
     "metadata": {},
     "output_type": "execute_result"
    }
   ],
   "source": [
    "# 2\n",
    "timeOnApp_yearlyAmountSpent = fyntraCustomer_df[['Time_on_App', 'Yearly_Amount_Spent']]\n",
    "timeOnApp_yearlyAmountSpent.head()"
   ]
  },
  {
   "cell_type": "code",
   "execution_count": 36,
   "metadata": {},
   "outputs": [
    {
     "name": "stderr",
     "output_type": "stream",
     "text": [
      "/home/junxiong/.local/lib/python3.6/site-packages/seaborn/axisgrid.py:1847: UserWarning: JointGrid annotation is deprecated and will be removed in a future release.\n",
      "  warnings.warn(UserWarning(msg))\n"
     ]
    },
    {
     "data": {
      "image/png": "[encoded data removed]",
      "text/plain": [
       "<Figure size 432x432 with 3 Axes>"
      ]
     },
     "metadata": {},
     "output_type": "display_data"
    }
   ],
   "source": [
    "sns.set(style=\"white\", color_codes=True)\n",
    "j = sns.jointplot(x=\"Time_on_App\", y=\"Yearly_Amount_Spent\", data=timeOnApp_yearlyAmountSpent, kind='hex')\n",
    "j.annotate(stats.pearsonr)\n",
    "plt.show()"
   ]
  },
  {
   "cell_type": "code",
   "execution_count": 37,
   "metadata": {},
   "outputs": [
    {
     "data": {
      "text/plain": [
       "<seaborn.axisgrid.PairGrid at 0x7fe1d63b4710>"
      ]
     },
     "execution_count": 37,
     "metadata": {},
     "output_type": "execute_result"
    },
    {
     "data": {
      "image/png": "[encoded data removed]",
      "text/plain": [
       "<Figure size 900x900 with 30 Axes>"
      ]
     },
     "metadata": {},
     "output_type": "display_data"
    }
   ],
   "source": [
    "# 3\n",
    "sns.set(style=\"ticks\", color_codes=True)\n",
    "sns.pairplot(fyntraCustomer_df, kind=\"reg\")"
   ]
  },
  {
   "cell_type": "raw",
   "metadata": {},
   "source": [
    "Length_of_Membership"
   ]
  },
  {
   "cell_type": "code",
   "execution_count": 38,
   "metadata": {},
   "outputs": [
    {
     "data": {
      "text/html": [
       "<div>\n",
       "<style scoped>\n",
       "    .dataframe tbody tr th:only-of-type {\n",
       "        vertical-align: middle;\n",
       "    }\n",
       "\n",
       "    .dataframe tbody tr th {\n",
       "        vertical-align: top;\n",
       "    }\n",
       "\n",
       "    .dataframe thead th {\n",
       "        text-align: right;\n",
       "    }\n",
       "</style>\n",
       "<table border=\"1\" class=\"dataframe\">\n",
       "  <thead>\n",
       "    <tr style=\"text-align: right;\">\n",
       "      <th></th>\n",
       "      <th>Length_of_Membership</th>\n",
       "      <th>Yearly_Amount_Spent</th>\n",
       "    </tr>\n",
       "  </thead>\n",
       "  <tbody>\n",
       "    <tr>\n",
       "      <th>0</th>\n",
       "      <td>4.082621</td>\n",
       "      <td>587.951054</td>\n",
       "    </tr>\n",
       "    <tr>\n",
       "      <th>1</th>\n",
       "      <td>2.664034</td>\n",
       "      <td>392.204933</td>\n",
       "    </tr>\n",
       "    <tr>\n",
       "      <th>2</th>\n",
       "      <td>4.104543</td>\n",
       "      <td>487.547505</td>\n",
       "    </tr>\n",
       "    <tr>\n",
       "      <th>3</th>\n",
       "      <td>3.120179</td>\n",
       "      <td>581.852344</td>\n",
       "    </tr>\n",
       "    <tr>\n",
       "      <th>4</th>\n",
       "      <td>4.446308</td>\n",
       "      <td>599.406092</td>\n",
       "    </tr>\n",
       "  </tbody>\n",
       "</table>\n",
       "</div>"
      ],
      "text/plain": [
       "   Length_of_Membership  Yearly_Amount_Spent\n",
       "0              4.082621           587.951054\n",
       "1              2.664034           392.204933\n",
       "2              4.104543           487.547505\n",
       "3              3.120179           581.852344\n",
       "4              4.446308           599.406092"
      ]
     },
     "execution_count": 38,
     "metadata": {},
     "output_type": "execute_result"
    }
   ],
   "source": [
    "# 4\n",
    "lengthOfMembership_yearlyAmountSpent = fyntraCustomer_df[['Length_of_Membership', 'Yearly_Amount_Spent']]\n",
    "lengthOfMembership_yearlyAmountSpent.head()"
   ]
  },
  {
   "cell_type": "code",
   "execution_count": 39,
   "metadata": {},
   "outputs": [
    {
     "data": {
      "image/png": "[encoded data removed]",
      "text/plain": [
       "<Figure size 432x288 with 1 Axes>"
      ]
     },
     "metadata": {},
     "output_type": "display_data"
    }
   ],
   "source": [
    "sns.regplot(x=\"Length_of_Membership\", y=\"Yearly_Amount_Spent\", data=lengthOfMembership_yearlyAmountSpent);"
   ]
  },
  {
   "cell_type": "code",
   "execution_count": 40,
   "metadata": {},
   "outputs": [],
   "source": [
    "# 5\n",
    "from sklearn.model_selection import train_test_split"
   ]
  },
  {
   "cell_type": "code",
   "execution_count": 41,
   "metadata": {},
   "outputs": [],
   "source": [
    "train_X, test_X, train_y, test_y = train_test_split(\n",
    "     lengthOfMembership_yearlyAmountSpent['Length_of_Membership'].values, \n",
    "    lengthOfMembership_yearlyAmountSpent['Yearly_Amount_Spent'], test_size=0.33, random_state=85)"
   ]
  },
  {
   "cell_type": "raw",
   "metadata": {},
   "source": [
    "random_state is the seed used by the random number generator; If RandomState instance, random_state is the random number generator; If None, the random number generator is the RandomState instance used by np.random"
   ]
  },
  {
   "cell_type": "code",
   "execution_count": 42,
   "metadata": {
    "scrolled": true
   },
   "outputs": [],
   "source": [
    "train_X = np.reshape(train_X, (train_X.shape[0], 1))\n",
    "test_X = np.reshape(test_X, (test_X.shape[0], 1))"
   ]
  },
  {
   "cell_type": "code",
   "execution_count": 43,
   "metadata": {},
   "outputs": [
    {
     "data": {
      "text/plain": [
       "(335, 1)"
      ]
     },
     "execution_count": 43,
     "metadata": {},
     "output_type": "execute_result"
    }
   ],
   "source": [
    "train_X.shape"
   ]
  },
  {
   "cell_type": "code",
   "execution_count": 44,
   "metadata": {},
   "outputs": [],
   "source": [
    "# 6\n",
    "reg = LinearRegression().fit(train_X, train_y)\n",
    "predict = reg.predict(test_X)"
   ]
  },
  {
   "cell_type": "code",
   "execution_count": 45,
   "metadata": {},
   "outputs": [
    {
     "data": {
      "text/html": [
       "<div>\n",
       "<style scoped>\n",
       "    .dataframe tbody tr th:only-of-type {\n",
       "        vertical-align: middle;\n",
       "    }\n",
       "\n",
       "    .dataframe tbody tr th {\n",
       "        vertical-align: top;\n",
       "    }\n",
       "\n",
       "    .dataframe thead th {\n",
       "        text-align: right;\n",
       "    }\n",
       "</style>\n",
       "<table border=\"1\" class=\"dataframe\">\n",
       "  <thead>\n",
       "    <tr style=\"text-align: right;\">\n",
       "      <th></th>\n",
       "      <th>predict</th>\n",
       "      <th>true</th>\n",
       "    </tr>\n",
       "  </thead>\n",
       "  <tbody>\n",
       "    <tr>\n",
       "      <th>412</th>\n",
       "      <td>467.164811</td>\n",
       "      <td>444.053827</td>\n",
       "    </tr>\n",
       "    <tr>\n",
       "      <th>266</th>\n",
       "      <td>517.305931</td>\n",
       "      <td>554.003093</td>\n",
       "    </tr>\n",
       "    <tr>\n",
       "      <th>309</th>\n",
       "      <td>390.785429</td>\n",
       "      <td>302.189548</td>\n",
       "    </tr>\n",
       "    <tr>\n",
       "      <th>212</th>\n",
       "      <td>521.179170</td>\n",
       "      <td>536.130897</td>\n",
       "    </tr>\n",
       "    <tr>\n",
       "      <th>105</th>\n",
       "      <td>461.567644</td>\n",
       "      <td>497.513683</td>\n",
       "    </tr>\n",
       "  </tbody>\n",
       "</table>\n",
       "</div>"
      ],
      "text/plain": [
       "        predict        true\n",
       "412  467.164811  444.053827\n",
       "266  517.305931  554.003093\n",
       "309  390.785429  302.189548\n",
       "212  521.179170  536.130897\n",
       "105  461.567644  497.513683"
      ]
     },
     "execution_count": 45,
     "metadata": {},
     "output_type": "execute_result"
    }
   ],
   "source": [
    "predict_true = {\"predict\": predict, \"true\": test_y}\n",
    "predict_true_df = pd.DataFrame.from_dict(predict_true)\n",
    "predict_true_df.head()"
   ]
  },
  {
   "cell_type": "code",
   "execution_count": 46,
   "metadata": {},
   "outputs": [
    {
     "data": {
      "text/plain": [
       "Text(5.334999999999994, 0.5, 'True')"
      ]
     },
     "execution_count": 46,
     "metadata": {},
     "output_type": "execute_result"
    },
    {
     "data": {
      "image/png": "[encoded data removed]",
      "text/plain": [
       "<Figure size 360x360 with 1 Axes>"
      ]
     },
     "metadata": {},
     "output_type": "display_data"
    }
   ],
   "source": [
    "sns.lmplot(x='predict',y='true', data=predict_true_df, fit_reg=False,\n",
    "           scatter_kws={\"marker\": \"D\", \n",
    "                        \"s\": 100}) \n",
    "plt.title('Predict vs True')\n",
    "plt.xlabel('Predict')\n",
    "plt.ylabel('True')"
   ]
  },
  {
   "cell_type": "code",
   "execution_count": 47,
   "metadata": {},
   "outputs": [
    {
     "data": {
      "text/plain": [
       "45.777045432257935"
      ]
     },
     "execution_count": 47,
     "metadata": {},
     "output_type": "execute_result"
    }
   ],
   "source": [
    "# 7\n",
    "from math import sqrt\n",
    "\n",
    "sqrt(mean_squared_error(test_y, predict))"
   ]
  },
  {
   "cell_type": "code",
   "execution_count": null,
   "metadata": {},
   "outputs": [],
   "source": []
  }
 ],
 "metadata": {
  "kernelspec": {
   "display_name": "Python 3",
   "language": "python",
   "name": "python3"
  },
  "language_info": {
   "codemirror_mode": {
    "name": "ipython",
    "version": 3
   },
   "file_extension": ".py",
   "mimetype": "text/x-python",
   "name": "python",
   "nbconvert_exporter": "python",
   "pygments_lexer": "ipython3",
   "version": "3.6.8"
  }
 },
 "nbformat": 4,
 "nbformat_minor": 2
}
